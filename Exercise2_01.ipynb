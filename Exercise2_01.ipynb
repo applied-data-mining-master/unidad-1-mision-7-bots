{
  "nbformat": 4,
  "nbformat_minor": 0,
  "metadata": {
    "kernelspec": {
      "display_name": "Python 3",
      "language": "python",
      "name": "python3"
    },
    "language_info": {
      "codemirror_mode": {
        "name": "ipython",
        "version": 3
      },
      "file_extension": ".py",
      "mimetype": "text/x-python",
      "name": "python",
      "nbconvert_exporter": "python",
      "pygments_lexer": "ipython3",
      "version": "3.8.5"
    },
    "colab": {
      "name": "Exercise2_01.ipynb",
      "provenance": []
    }
  },
  "cells": [
    {
      "cell_type": "markdown",
      "metadata": {
        "id": "5TFGGDjlnLCv"
      },
      "source": [
        "# Exercise 2.01: Predicting the Student Capacity of an Elementary School\n",
        "\n",
        "In this exercise, you will be trying to forecast the need for elementary school capacity. Your task is to figure out 2025 and 2030 predictions for the number of children starting elementary school."
      ]
    },
    {
      "cell_type": "markdown",
      "metadata": {
        "id": "aYyXSuHKnLDE"
      },
      "source": [
        "1.- Import `pandas`, `pyplot` and `numpy`modules"
      ]
    },
    {
      "cell_type": "code",
      "metadata": {
        "id": "xkjVB6wznLDG"
      },
      "source": [
        "import numpy as np\n",
        "import pandas as pd\n",
        "import matplotlib.pyplot as plot"
      ],
      "execution_count": 1,
      "outputs": []
    },
    {
      "cell_type": "markdown",
      "metadata": {
        "id": "Rc-_iKKUnLDJ"
      },
      "source": [
        "2.- Load the CSV file as a DataFrame on the Notebook and read the CSV file\n",
        "\n",
        "  > **Hints**  \n",
        "  > Use the `read_csv` function from `pandas`.\n",
        "  \n",
        "Output:\n",
        "\n",
        "![Figure 2.14](img/fig2_14.jpg)"
      ]
    },
    {
      "cell_type": "code",
      "metadata": {
        "colab": {
          "base_uri": "https://localhost:8080/",
          "height": 607
        },
        "id": "tiKNWCPAnLDK",
        "outputId": "80a4df9a-53d4-4a7d-e8f9-b88ebca41396"
      },
      "source": [
        "Archivo_URL = 'https://raw.githubusercontent.com/applied-data-mining-master/syllabus_intelligencesystems/main/data/population.csv'\n",
        "Resultado = pd.read_csv(Archivo_URL)\n",
        "Resultado"
      ],
      "execution_count": 2,
      "outputs": [
        {
          "output_type": "execute_result",
          "data": {
            "text/html": [
              "<div>\n",
              "<style scoped>\n",
              "    .dataframe tbody tr th:only-of-type {\n",
              "        vertical-align: middle;\n",
              "    }\n",
              "\n",
              "    .dataframe tbody tr th {\n",
              "        vertical-align: top;\n",
              "    }\n",
              "\n",
              "    .dataframe thead th {\n",
              "        text-align: right;\n",
              "    }\n",
              "</style>\n",
              "<table border=\"1\" class=\"dataframe\">\n",
              "  <thead>\n",
              "    <tr style=\"text-align: right;\">\n",
              "      <th></th>\n",
              "      <th>year</th>\n",
              "      <th>population</th>\n",
              "    </tr>\n",
              "  </thead>\n",
              "  <tbody>\n",
              "    <tr>\n",
              "      <th>0</th>\n",
              "      <td>2001</td>\n",
              "      <td>147026</td>\n",
              "    </tr>\n",
              "    <tr>\n",
              "      <th>1</th>\n",
              "      <td>2002</td>\n",
              "      <td>144272</td>\n",
              "    </tr>\n",
              "    <tr>\n",
              "      <th>2</th>\n",
              "      <td>2003</td>\n",
              "      <td>140020</td>\n",
              "    </tr>\n",
              "    <tr>\n",
              "      <th>3</th>\n",
              "      <td>2004</td>\n",
              "      <td>143801</td>\n",
              "    </tr>\n",
              "    <tr>\n",
              "      <th>4</th>\n",
              "      <td>2005</td>\n",
              "      <td>146233</td>\n",
              "    </tr>\n",
              "    <tr>\n",
              "      <th>5</th>\n",
              "      <td>2006</td>\n",
              "      <td>144539</td>\n",
              "    </tr>\n",
              "    <tr>\n",
              "      <th>6</th>\n",
              "      <td>2007</td>\n",
              "      <td>141273</td>\n",
              "    </tr>\n",
              "    <tr>\n",
              "      <th>7</th>\n",
              "      <td>2008</td>\n",
              "      <td>135389</td>\n",
              "    </tr>\n",
              "    <tr>\n",
              "      <th>8</th>\n",
              "      <td>2009</td>\n",
              "      <td>142500</td>\n",
              "    </tr>\n",
              "    <tr>\n",
              "      <th>9</th>\n",
              "      <td>2010</td>\n",
              "      <td>139452</td>\n",
              "    </tr>\n",
              "    <tr>\n",
              "      <th>10</th>\n",
              "      <td>2011</td>\n",
              "      <td>139722</td>\n",
              "    </tr>\n",
              "    <tr>\n",
              "      <th>11</th>\n",
              "      <td>2012</td>\n",
              "      <td>135300</td>\n",
              "    </tr>\n",
              "    <tr>\n",
              "      <th>12</th>\n",
              "      <td>2013</td>\n",
              "      <td>137289</td>\n",
              "    </tr>\n",
              "    <tr>\n",
              "      <th>13</th>\n",
              "      <td>2014</td>\n",
              "      <td>136511</td>\n",
              "    </tr>\n",
              "    <tr>\n",
              "      <th>14</th>\n",
              "      <td>2015</td>\n",
              "      <td>132884</td>\n",
              "    </tr>\n",
              "    <tr>\n",
              "      <th>15</th>\n",
              "      <td>2016</td>\n",
              "      <td>125683</td>\n",
              "    </tr>\n",
              "    <tr>\n",
              "      <th>16</th>\n",
              "      <td>2017</td>\n",
              "      <td>127255</td>\n",
              "    </tr>\n",
              "    <tr>\n",
              "      <th>17</th>\n",
              "      <td>2018</td>\n",
              "      <td>124275</td>\n",
              "    </tr>\n",
              "  </tbody>\n",
              "</table>\n",
              "</div>"
            ],
            "text/plain": [
              "    year  population\n",
              "0   2001      147026\n",
              "1   2002      144272\n",
              "2   2003      140020\n",
              "3   2004      143801\n",
              "4   2005      146233\n",
              "5   2006      144539\n",
              "6   2007      141273\n",
              "7   2008      135389\n",
              "8   2009      142500\n",
              "9   2010      139452\n",
              "10  2011      139722\n",
              "11  2012      135300\n",
              "12  2013      137289\n",
              "13  2014      136511\n",
              "14  2015      132884\n",
              "15  2016      125683\n",
              "16  2017      127255\n",
              "17  2018      124275"
            ]
          },
          "metadata": {
            "tags": []
          },
          "execution_count": 2
        }
      ]
    },
    {
      "cell_type": "markdown",
      "metadata": {
        "id": "paDld3qunLDa"
      },
      "source": [
        "3.- Convert the DataFrame into two NumPy arrays. For simplicity, we can indicate that the `year` feature, which is from `2001` to `2018`, is the same as `1` to `18`\n",
        "\n",
        "Output:\n",
        "\n",
        "```\n",
        "array([1, 2, 3, 4, 5, 6, 7, 8, 9, 10, 11, 12, 13, 14, 15, 16, 17, 18])\n",
        "\n",
        "array([147026, 144272, 140020, 143801, 146233,\n",
        "       144539, 141273, 135389, 142500, 139452,\n",
        "       139722, 135300, 137289, 136511, 132884,\n",
        "       125683, 127255, 124275], dtype=int64)\n",
        "```\n"
      ]
    },
    {
      "cell_type": "code",
      "metadata": {
        "colab": {
          "base_uri": "https://localhost:8080/"
        },
        "id": "FRGMf_4RnLDc",
        "outputId": "dbd02593-37a3-4804-d158-6044c3968a82"
      },
      "source": [
        "x = np.array(range(1, 19))\n",
        "x\n"
      ],
      "execution_count": 6,
      "outputs": [
        {
          "output_type": "execute_result",
          "data": {
            "text/plain": [
              "array([ 1,  2,  3,  4,  5,  6,  7,  8,  9, 10, 11, 12, 13, 14, 15, 16, 17,\n",
              "       18])"
            ]
          },
          "metadata": {
            "tags": []
          },
          "execution_count": 6
        }
      ]
    },
    {
      "cell_type": "code",
      "metadata": {
        "colab": {
          "base_uri": "https://localhost:8080/"
        },
        "id": "AMAAgot1nLDg",
        "outputId": "b23600dc-fd7e-4604-a797-a00d969a8c6b"
      },
      "source": [
        "y = np.array(Resultado['population'])\n",
        "y"
      ],
      "execution_count": 8,
      "outputs": [
        {
          "output_type": "execute_result",
          "data": {
            "text/plain": [
              "array([147026, 144272, 140020, 143801, 146233, 144539, 141273, 135389,\n",
              "       142500, 139452, 139722, 135300, 137289, 136511, 132884, 125683,\n",
              "       127255, 124275])"
            ]
          },
          "metadata": {
            "tags": []
          },
          "execution_count": 8
        }
      ]
    },
    {
      "cell_type": "markdown",
      "metadata": {
        "id": "eJtvK3X6nLDk"
      },
      "source": [
        "4.- Now, with the two NumPy arrays, use the polyfit method (with a degree of 1 as we only have one feature) to determine the coefficients of the regression line.\n",
        "\n",
        "Output:\n",
        "\n",
        "```\n",
        "[-1142.0557275541855, 148817.52941176476]\n",
        "```"
      ]
    },
    {
      "cell_type": "code",
      "metadata": {
        "colab": {
          "base_uri": "https://localhost:8080/"
        },
        "id": "pKI7AtkCnLDn",
        "outputId": "8613f25e-7084-4c43-ada4-c80fc3e1479c"
      },
      "source": [
        "[a, b] = np.polyfit(x, y, 1)\n",
        "[a, b]"
      ],
      "execution_count": 9,
      "outputs": [
        {
          "output_type": "execute_result",
          "data": {
            "text/plain": [
              "[-1142.0557275541844, 148817.52941176473]"
            ]
          },
          "metadata": {
            "tags": []
          },
          "execution_count": 9
        }
      ]
    },
    {
      "cell_type": "markdown",
      "metadata": {
        "id": "4lil8eddnLDp"
      },
      "source": [
        " 5.- Plot the results using `matplotlib.pyplot` and predict the future until $2030$\n",
        " \n",
        " Output:\n",
        " \n",
        "![Figure 2.15](img/fig2_15.jpg)"
      ]
    },
    {
      "cell_type": "code",
      "metadata": {
        "colab": {
          "base_uri": "https://localhost:8080/",
          "height": 266
        },
        "id": "pIqMlkAGnLDq",
        "outputId": "230fa291-93fa-4b48-d4db-eb88d319d37c"
      },
      "source": [
        "plot.scatter( x, y ) \n",
        "plot.plot( [0, 30], [b, 30 * a + b] )\n",
        "plot.show()"
      ],
      "execution_count": 10,
      "outputs": [
        {
          "output_type": "display_data",
          "data": {
            "image/png": "[encoded data removed]",
            "text/plain": [
              "<Figure size 432x288 with 1 Axes>"
            ]
          },
          "metadata": {
            "tags": [],
            "needs_background": "light"
          }
        }
      ]
    },
    {
      "cell_type": "markdown",
      "metadata": {
        "id": "b93kAnOXnLDs"
      },
      "source": [
        "6.- predict the population for $2025$ and $2030$\n",
        "\n",
        "Output:\n",
        "\n",
        "```\n",
        "For 2025 =  120266.13622291012\n",
        "For 2030 =  114555.8575851392 \n",
        "```"
      ]
    },
    {
      "cell_type": "code",
      "metadata": {
        "colab": {
          "base_uri": "https://localhost:8080/"
        },
        "id": "gnK-NikxnLDt",
        "outputId": "fded1961-f3f8-4f72-a6c1-d7574ceafd61"
      },
      "source": [
        "pbl25 = 25 * a + b\n",
        "print(\"Población en 2025: \",pbl25)"
      ],
      "execution_count": 11,
      "outputs": [
        {
          "output_type": "stream",
          "text": [
            "Población en 2025:  120266.13622291012\n"
          ],
          "name": "stdout"
        }
      ]
    },
    {
      "cell_type": "code",
      "metadata": {
        "colab": {
          "base_uri": "https://localhost:8080/"
        },
        "id": "gZXMf9EinLDv",
        "outputId": "c20b31de-53c6-4ccd-ff87-b9f8f4deb6f6"
      },
      "source": [
        "pbl30 = 30 * a + b\n",
        "print(\"Población en 2030: \",pbl30)"
      ],
      "execution_count": 12,
      "outputs": [
        {
          "output_type": "stream",
          "text": [
            "Población en 2030:  114555.8575851392\n"
          ],
          "name": "stdout"
        }
      ]
    },
    {
      "cell_type": "markdown",
      "metadata": {
        "id": "DHsq1PIqnLDw"
      },
      "source": [
        "we can now conclude that the population of children starting elementary school is going to decrease in the future and that there is no need to increase the elementary school capacity if we are currently meeting the needs."
      ]
    }
  ]
}