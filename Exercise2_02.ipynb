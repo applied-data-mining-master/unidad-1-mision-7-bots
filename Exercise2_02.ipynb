{
  "nbformat": 4,
  "nbformat_minor": 0,
  "metadata": {
    "kernelspec": {
      "display_name": "Python 3",
      "language": "python",
      "name": "python3"
    },
    "language_info": {
      "codemirror_mode": {
        "name": "ipython",
        "version": 3
      },
      "file_extension": ".py",
      "mimetype": "text/x-python",
      "name": "python",
      "nbconvert_exporter": "python",
      "pygments_lexer": "ipython3",
      "version": "3.8.5"
    },
    "colab": {
      "name": "Exercise2_02.ipynb",
      "provenance": []
    }
  },
  "cells": [
    {
      "cell_type": "markdown",
      "metadata": {
        "id": "z66KFD15nO_J"
      },
      "source": [
        "# Exercise 2.02: Using Quandl to Load Stock Prices\n",
        "\n",
        "The goal of this exercise is to download data from the Quandl package and load it into a DataFrame like we previously did with Yahoo Finance.\n",
        "\n",
        "The following steps will help you to complete the exercise:"
      ]
    },
    {
      "cell_type": "markdown",
      "metadata": {
        "id": "I858-03VnPA9"
      },
      "source": [
        "1.- Use pip to install Quandl"
      ]
    },
    {
      "cell_type": "code",
      "metadata": {
        "colab": {
          "base_uri": "https://localhost:8080/"
        },
        "id": "5iKhdUwUnPBA",
        "outputId": "7fb52866-5c33-46da-b347-41c298e7d6eb"
      },
      "source": [
        "!pip install quandl"
      ],
      "execution_count": 1,
      "outputs": [
        {
          "output_type": "stream",
          "text": [
            "Collecting quandl\n",
            "  Downloading https://files.pythonhosted.org/packages/c2/58/9f0e69d836045e3865d263e9ed49f42b23a58526fdabb30f74c430baee3f/Quandl-3.6.0-py2.py3-none-any.whl\n",
            "Requirement already satisfied: pandas>=0.14 in /usr/local/lib/python3.6/dist-packages (from quandl) (1.1.5)\n",
            "Collecting inflection>=0.3.1\n",
            "  Downloading https://files.pythonhosted.org/packages/59/91/aa6bde563e0085a02a435aa99b49ef75b0a4b062635e606dab23ce18d720/inflection-0.5.1-py2.py3-none-any.whl\n",
            "Requirement already satisfied: python-dateutil in /usr/local/lib/python3.6/dist-packages (from quandl) (2.8.1)\n",
            "Requirement already satisfied: more-itertools in /usr/local/lib/python3.6/dist-packages (from quandl) (8.6.0)\n",
            "Requirement already satisfied: requests>=2.7.0 in /usr/local/lib/python3.6/dist-packages (from quandl) (2.23.0)\n",
            "Requirement already satisfied: numpy>=1.8 in /usr/local/lib/python3.6/dist-packages (from quandl) (1.19.5)\n",
            "Requirement already satisfied: six in /usr/local/lib/python3.6/dist-packages (from quandl) (1.15.0)\n",
            "Requirement already satisfied: pytz>=2017.2 in /usr/local/lib/python3.6/dist-packages (from pandas>=0.14->quandl) (2018.9)\n",
            "Requirement already satisfied: idna<3,>=2.5 in /usr/local/lib/python3.6/dist-packages (from requests>=2.7.0->quandl) (2.10)\n",
            "Requirement already satisfied: urllib3!=1.25.0,!=1.25.1,<1.26,>=1.21.1 in /usr/local/lib/python3.6/dist-packages (from requests>=2.7.0->quandl) (1.24.3)\n",
            "Requirement already satisfied: chardet<4,>=3.0.2 in /usr/local/lib/python3.6/dist-packages (from requests>=2.7.0->quandl) (3.0.4)\n",
            "Requirement already satisfied: certifi>=2017.4.17 in /usr/local/lib/python3.6/dist-packages (from requests>=2.7.0->quandl) (2020.12.5)\n",
            "Installing collected packages: inflection, quandl\n",
            "Successfully installed inflection-0.5.1 quandl-3.6.0\n"
          ],
          "name": "stdout"
        }
      ]
    },
    {
      "cell_type": "markdown",
      "metadata": {
        "id": "9p1lBrVlnPBG"
      },
      "source": [
        "2.- Download the data into a DataFrame using Quandl for the S&P 500. Its ticker is `“YALE/SPCOMP”`"
      ]
    },
    {
      "cell_type": "code",
      "metadata": {
        "id": "suXi5cO6nPBH"
      },
      "source": [
        "import quandl\n",
        "\n",
        "data_frame = quandl.get(\"YALE/SPCOMP\")"
      ],
      "execution_count": null,
      "outputs": []
    },
    {
      "cell_type": "markdown",
      "metadata": {
        "id": "i3Ll57ADnPBI"
      },
      "source": [
        "3.- Use the DataFrame `head()` method to inspect the first five rows of data in your DataFrame\n",
        "\n",
        "Output:\n",
        "\n",
        "![Figure 2.17](img/fig2_17.jpg)"
      ]
    },
    {
      "cell_type": "code",
      "metadata": {
        "id": "mi7vGy-4nPBK",
        "outputId": "0a02c209-5bea-4d74-cc1c-8a614116ce8f"
      },
      "source": [
        "data_frame.head()"
      ],
      "execution_count": null,
      "outputs": [
        {
          "output_type": "execute_result",
          "data": {
            "text/html": [
              "<div>\n",
              "<style scoped>\n",
              "    .dataframe tbody tr th:only-of-type {\n",
              "        vertical-align: middle;\n",
              "    }\n",
              "\n",
              "    .dataframe tbody tr th {\n",
              "        vertical-align: top;\n",
              "    }\n",
              "\n",
              "    .dataframe thead th {\n",
              "        text-align: right;\n",
              "    }\n",
              "</style>\n",
              "<table border=\"1\" class=\"dataframe\">\n",
              "  <thead>\n",
              "    <tr style=\"text-align: right;\">\n",
              "      <th></th>\n",
              "      <th>S&amp;P Composite</th>\n",
              "      <th>Dividend</th>\n",
              "      <th>Earnings</th>\n",
              "      <th>CPI</th>\n",
              "      <th>Long Interest Rate</th>\n",
              "      <th>Real Price</th>\n",
              "      <th>Real Dividend</th>\n",
              "      <th>Real Earnings</th>\n",
              "      <th>Cyclically Adjusted PE Ratio</th>\n",
              "    </tr>\n",
              "    <tr>\n",
              "      <th>Year</th>\n",
              "      <th></th>\n",
              "      <th></th>\n",
              "      <th></th>\n",
              "      <th></th>\n",
              "      <th></th>\n",
              "      <th></th>\n",
              "      <th></th>\n",
              "      <th></th>\n",
              "      <th></th>\n",
              "    </tr>\n",
              "  </thead>\n",
              "  <tbody>\n",
              "    <tr>\n",
              "      <th>1871-01-31</th>\n",
              "      <td>4.44</td>\n",
              "      <td>0.26</td>\n",
              "      <td>0.4</td>\n",
              "      <td>12.464061</td>\n",
              "      <td>5.320000</td>\n",
              "      <td>92.785357</td>\n",
              "      <td>5.433377</td>\n",
              "      <td>8.359041</td>\n",
              "      <td>NaN</td>\n",
              "    </tr>\n",
              "    <tr>\n",
              "      <th>1871-02-28</th>\n",
              "      <td>4.50</td>\n",
              "      <td>0.26</td>\n",
              "      <td>0.4</td>\n",
              "      <td>12.844641</td>\n",
              "      <td>5.323333</td>\n",
              "      <td>91.252879</td>\n",
              "      <td>5.272389</td>\n",
              "      <td>8.111367</td>\n",
              "      <td>NaN</td>\n",
              "    </tr>\n",
              "    <tr>\n",
              "      <th>1871-03-31</th>\n",
              "      <td>4.61</td>\n",
              "      <td>0.26</td>\n",
              "      <td>0.4</td>\n",
              "      <td>13.034972</td>\n",
              "      <td>5.326667</td>\n",
              "      <td>92.118502</td>\n",
              "      <td>5.195404</td>\n",
              "      <td>7.992929</td>\n",
              "      <td>NaN</td>\n",
              "    </tr>\n",
              "    <tr>\n",
              "      <th>1871-04-30</th>\n",
              "      <td>4.74</td>\n",
              "      <td>0.26</td>\n",
              "      <td>0.4</td>\n",
              "      <td>12.559226</td>\n",
              "      <td>5.330000</td>\n",
              "      <td>98.304069</td>\n",
              "      <td>5.392206</td>\n",
              "      <td>8.295702</td>\n",
              "      <td>NaN</td>\n",
              "    </tr>\n",
              "    <tr>\n",
              "      <th>1871-05-31</th>\n",
              "      <td>4.86</td>\n",
              "      <td>0.26</td>\n",
              "      <td>0.4</td>\n",
              "      <td>12.273812</td>\n",
              "      <td>5.333333</td>\n",
              "      <td>103.136612</td>\n",
              "      <td>5.517597</td>\n",
              "      <td>8.488610</td>\n",
              "      <td>NaN</td>\n",
              "    </tr>\n",
              "  </tbody>\n",
              "</table>\n",
              "</div>"
            ],
            "text/plain": [
              "            S&P Composite  Dividend  Earnings        CPI  Long Interest Rate  \\\n",
              "Year                                                                           \n",
              "1871-01-31           4.44      0.26       0.4  12.464061            5.320000   \n",
              "1871-02-28           4.50      0.26       0.4  12.844641            5.323333   \n",
              "1871-03-31           4.61      0.26       0.4  13.034972            5.326667   \n",
              "1871-04-30           4.74      0.26       0.4  12.559226            5.330000   \n",
              "1871-05-31           4.86      0.26       0.4  12.273812            5.333333   \n",
              "\n",
              "            Real Price  Real Dividend  Real Earnings  \\\n",
              "Year                                                   \n",
              "1871-01-31   92.785357       5.433377       8.359041   \n",
              "1871-02-28   91.252879       5.272389       8.111367   \n",
              "1871-03-31   92.118502       5.195404       7.992929   \n",
              "1871-04-30   98.304069       5.392206       8.295702   \n",
              "1871-05-31  103.136612       5.517597       8.488610   \n",
              "\n",
              "            Cyclically Adjusted PE Ratio  \n",
              "Year                                      \n",
              "1871-01-31                           NaN  \n",
              "1871-02-28                           NaN  \n",
              "1871-03-31                           NaN  \n",
              "1871-04-30                           NaN  \n",
              "1871-05-31                           NaN  "
            ]
          },
          "metadata": {
            "tags": []
          },
          "execution_count": 2
        }
      ]
    },
    {
      "cell_type": "markdown",
      "metadata": {
        "id": "OGJZLg6rnPBR"
      },
      "source": [
        "By completing this exercise, we have learned how to download an external dataset in CSV format and import it as a DataFrame. We also learned about the `.head()` method, which provides a quick view of the first five rows of your DataFrame."
      ]
    }
  ]
}